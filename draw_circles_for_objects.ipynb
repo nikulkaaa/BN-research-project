{
 "cells": [
  {
   "cell_type": "markdown",
   "metadata": {},
   "source": [
    "# This is a file specifically created as a fail save for when the network fails to detect the objects correctly.\n",
    "\n",
    "In our case the network had a tendency to not recognize the objects correctly due to the reflective flooring, so this is a manual option to determine the correct, centers and radii. "
   ]
  },
  {
   "cell_type": "markdown",
   "metadata": {},
   "source": [
    "It runs the same as the [set_ratios.ipynb](set_ratios.ipynb) file. It creates a csv file with the necessary data. Note that instead of double left clicking it now requires a drag and draw system for more accurate dynamic circles. Press and hold the left click button at the center of the circular object, while holding move over to the desired outer edge and let go. Doesnt have to be perpendicular to anything, it calculates euclidean distances for the radii. "
   ]
  },
  {
   "cell_type": "code",
   "execution_count": 1,
   "metadata": {},
   "outputs": [
    {
     "name": "stdout",
     "output_type": "stream",
     "text": [
      "['Nol G1l Test 010324', 'Nol G1rl Test 010324', 'Nol G20 Test 010324', 'Nol G2r Test 010324', 'Nol H1r Test 010324', 'Nol H1rl Test 010324', 'Nol H20 Test 010324', 'Nol H2l Test 010324', 'Nol I1l Test 010324', 'Nol I1rl Test 010324', 'Nol I20 Test 010324', 'Nol I2r Test 010324', 'Nol X0 Test 110724', 'Nol Xl Test 110724', 'Nol Xr Test 110724', 'Nol Y0 Test 110724', 'Nol Yl Test 110724', 'Nol Yr Test 110724', 'Nol Z10 Test 110724', 'Nol Z1r Test 110724', 'Nol Z20 Test 110724', 'Nol Z2r Test 110724']\n"
     ]
    }
   ],
   "source": [
    "import os\n",
    "\n",
    "\n",
    "# gets foldernames\n",
    "def get_filenames(directory, filetype: str):\n",
    "    \"\"\"\n",
    "    \n",
    "    Returns a list of all .xxx file names in the specified directory.\n",
    "    \n",
    "    \"\"\"\n",
    "    return [f for f in os.listdir(directory) if not os.path.isfile(os.path.join(directory, f))]\n",
    " \n",
    "\n",
    "# path directory usage. \n",
    "directory_path = \"C:/Users/Gebruiker/Desktop/mp4 vids/\"\n",
    "videonames = get_filenames(directory_path, 'mp4')\n",
    "\n",
    "print(videonames)\n"
   ]
  },
  {
   "cell_type": "markdown",
   "metadata": {},
   "source": [
    "### Run this block and drag and draw all circles keep the order the same for all frames, because it saves the first object as a and second as b etc. \n"
   ]
  },
  {
   "cell_type": "code",
   "execution_count": null,
   "metadata": {},
   "outputs": [
    {
     "name": "stdout",
     "output_type": "stream",
     "text": [
      "C:/Users/Gebruiker/Desktop/mp4 vids/Nol G1l Test 010324\\Nol G1l Test 010324.mp4\n",
      "([360, 653], [199, 515], [40.01249804748511, 36.22154055254967])\n",
      "[{'videoname': 'Nol G1l Test 010324', 'object_A_centre_x': 360, 'object_A_centre_y': 199, 'object_B_centre_x': 653, 'object_B_centre_y': 515, 'radius_A': 40.01249804748511, 'radius_B': 40.01249804748511}]\n",
      "C:/Users/Gebruiker/Desktop/mp4 vids/Nol G1rl Test 010324\\Nol G1rl Test 010324.mp4\n"
     ]
    },
    {
     "ename": "KeyboardInterrupt",
     "evalue": "",
     "output_type": "error",
     "traceback": [
      "\u001b[31m---------------------------------------------------------------------------\u001b[39m",
      "\u001b[31mKeyboardInterrupt\u001b[39m                         Traceback (most recent call last)",
      "\u001b[36mCell\u001b[39m\u001b[36m \u001b[39m\u001b[32mIn[2]\u001b[39m\u001b[32m, line 15\u001b[39m\n\u001b[32m     12\u001b[39m image_draw.get_first_frame(file_path)\n\u001b[32m     13\u001b[39m \u001b[38;5;66;03m# list of lists with info is the output of the function\u001b[39;00m\n\u001b[32m     14\u001b[39m \u001b[38;5;66;03m# resets the tuple every time\u001b[39;00m\n\u001b[32m---> \u001b[39m\u001b[32m15\u001b[39m output = \u001b[43mimage_draw\u001b[49m\u001b[43m.\u001b[49m\u001b[43mdrag_and_draw_circle\u001b[49m\u001b[43m(\u001b[49m\u001b[43m)\u001b[49m\n\u001b[32m     16\u001b[39m \u001b[38;5;28mprint\u001b[39m(output)\n\u001b[32m     17\u001b[39m \u001b[38;5;66;03m# set dictionary for the specific video\u001b[39;00m\n",
      "\u001b[36mFile \u001b[39m\u001b[32mc:\\Users\\Gebruiker\\Desktop\\BN dlc project\\BN-research-project\\image_draw.py:85\u001b[39m, in \u001b[36mdrag_and_draw_circle\u001b[39m\u001b[34m()\u001b[39m\n\u001b[32m     83\u001b[39m \u001b[38;5;28;01mwhile\u001b[39;00m \u001b[38;5;28;01mTrue\u001b[39;00m:\n\u001b[32m     84\u001b[39m     cv.imshow(windowname, img)\n\u001b[32m---> \u001b[39m\u001b[32m85\u001b[39m     k = \u001b[43mcv\u001b[49m\u001b[43m.\u001b[49m\u001b[43mwaitKey\u001b[49m\u001b[43m(\u001b[49m\u001b[32;43m30\u001b[39;49m\u001b[43m)\u001b[49m\n\u001b[32m     86\u001b[39m     \u001b[38;5;28;01mif\u001b[39;00m k == \u001b[32m27\u001b[39m \u001b[38;5;129;01mor\u001b[39;00m \u001b[38;5;28mlen\u001b[39m(radiuss) == \u001b[32m2\u001b[39m:\n\u001b[32m     87\u001b[39m         \u001b[38;5;28;01mbreak\u001b[39;00m\n",
      "\u001b[31mKeyboardInterrupt\u001b[39m: "
     ]
    }
   ],
   "source": [
    "import image_draw\n",
    "import pandas as pd\n",
    "# create a list to store the dictionaries\n",
    "coordinate_list = []\n",
    "# looping over every video and its first frame\n",
    "for videoname in videonames:\n",
    "    # Change to local path and filetype\n",
    "    folder_path = (\"C:/Users/Gebruiker/Desktop/mp4 vids/\" + videoname)\n",
    "    file_path = os.path.join(folder_path, f\"{videoname}.mp4\")\n",
    "    # For personal checking if the path is correct\n",
    "    print(file_path)\n",
    "    image_draw.get_first_frame(file_path)\n",
    "    # list of lists with info is the output of the function\n",
    "    # resets the tuple every time\n",
    "    output = image_draw.drag_and_draw_circle()\n",
    "    # set dictionary for the specific video\n",
    "    coordinates = {\"videoname\": videoname, \"object_A_centre_x\": output[0][0], \"object_A_centre_y\": output[1][0], \"object_B_centre_x\": output[0][1], \"object_B_centre_y\": output[1][1], \"radius_A\": output[2][0], \"radius_B\": output[2][0]}\n",
    "    coordinate_list.append(coordinates)\n",
    "    coordinates = {}\n",
    "\n",
    "# create csv from the list of dictionaries\n",
    "df = pd.DataFrame(coordinate_list)\n",
    "df.to_csv(\"coordinates.csv\", index=False, sep=\",\", encoding=\"utf-8\")"
   ]
  }
 ],
 "metadata": {
  "kernelspec": {
   "display_name": ".venv",
   "language": "python",
   "name": "python3"
  },
  "language_info": {
   "codemirror_mode": {
    "name": "ipython",
    "version": 3
   },
   "file_extension": ".py",
   "mimetype": "text/x-python",
   "name": "python",
   "nbconvert_exporter": "python",
   "pygments_lexer": "ipython3",
   "version": "3.11.9"
  }
 },
 "nbformat": 4,
 "nbformat_minor": 2
}
