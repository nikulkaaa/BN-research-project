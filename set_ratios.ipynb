{
 "cells": [
  {
   "cell_type": "markdown",
   "metadata": {},
   "source": [
    "# This is Where we can create a csv file to use for our analysis\n",
    "Some of the video angles and such might be a bit distorted or angled differently. To deal with this, we can assign a known lenght in real life to the distance from two points in one of the frames of the video.\n",
    "\n",
    "\n",
    "This first block is to make a list of all the videos we want to analyse. Assuming all the necessary are formatted the same and also in the same and dedicated folder, which is something we advice but isnt necessary.\n",
    "\n",
    "The directory path is where you put the direct path to the folder containing the videos. You can find this directory by opening the folder and looking at its properties. Copy this path and paste in the format: r\"path/to/directory\".\n",
    "In the line of videonames you must assigne the format the videos are held in. Without the '.' Just plain old \"mp4\" would do. "
   ]
  },
  {
   "cell_type": "code",
   "execution_count": 3,
   "metadata": {},
   "outputs": [
    {
     "name": "stdout",
     "output_type": "stream",
     "text": [
      "['233 (1)DLC_resnet50_BN research projectFeb3shuffle1_54500_labeled.mp4', '235 (1)DLC_resnet50_BN research projectFeb3shuffle1_54500_labeled.mp4', '237 (1)DLC_resnet50_BN research projectFeb3shuffle1_54500_labeled.mp4', '238 (1)DLC_resnet50_BN research projectFeb3shuffle1_54500_labeled.mp4', '239 (1)DLC_resnet50_BN research projectFeb3shuffle1_54500_labeled.mp4']\n"
     ]
    }
   ],
   "source": [
    "import os\n",
    "import image_draw\n",
    "import pandas as pd\n",
    "\n",
    "\n",
    "def get_filenames(directory, filetype: str):\n",
    "    \"\"\"\n",
    "    \n",
    "    Returns a list of all .xxx file names in the specified directory.\n",
    "    \n",
    "    \"\"\"\n",
    "    return [f for f in os.listdir(directory) if f.endswith(f'.{filetype}')]\n",
    "\n",
    "# path directory usage. \n",
    "directory_path = \"../videos\"\n",
    "videonames = get_filenames(directory_path, 'mp4')\n",
    "\n",
    "print(videonames)\n"
   ]
  },
  {
   "cell_type": "markdown",
   "metadata": {},
   "source": [
    "# Great, now lets look at the frames and set some ratios.\n",
    "\n",
    "By double clicking using the left mouse button you can draw a dot on the first frame. (The window might pop up behind your compiler so once the box runs just find it) You can press ESC to deny or skip a frame but it will grant you an error. Exceptions can be made if deemed wanted. \n",
    "\n",
    "After setting two dots, it's coordinates will be saved and the next videos frame will come up. Keep doing this till you have finished all the videos of your folder. The window will automatically close and you can move on to creating your dataframe. "
   ]
  },
  {
   "cell_type": "code",
   "execution_count": null,
   "metadata": {},
   "outputs": [
    {
     "name": "stdout",
     "output_type": "stream",
     "text": [
      "233 (1)DLC_resnet50_BN research projectFeb3shuffle1_54500_labeled.mp4\n"
     ]
    },
    {
     "ename": "error",
     "evalue": "OpenCV(4.11.0) D:\\a\\opencv-python\\opencv-python\\opencv\\modules\\highgui\\src\\window.cpp:973: error: (-215:Assertion failed) size.width>0 && size.height>0 in function 'cv::imshow'\n",
     "output_type": "error",
     "traceback": [
      "\u001b[1;31m---------------------------------------------------------------------------\u001b[0m",
      "\u001b[1;31merror\u001b[0m                                     Traceback (most recent call last)",
      "Cell \u001b[1;32mIn[4], line 6\u001b[0m\n\u001b[0;32m      4\u001b[0m image_draw\u001b[38;5;241m.\u001b[39mget_first_frame(\u001b[38;5;124m'\u001b[39m\u001b[38;5;124mvideos/\u001b[39m\u001b[38;5;124m'\u001b[39m \u001b[38;5;241m+\u001b[39m videoname)\n\u001b[0;32m      5\u001b[0m \u001b[38;5;28mprint\u001b[39m(videoname)\n\u001b[1;32m----> 6\u001b[0m \u001b[43mimage_draw\u001b[49m\u001b[38;5;241;43m.\u001b[39;49m\u001b[43mdouble_click_draw\u001b[49m\u001b[43m(\u001b[49m\u001b[43m)\u001b[49m\n\u001b[0;32m      7\u001b[0m actual_distance \u001b[38;5;241m=\u001b[39m \u001b[38;5;241m40\u001b[39m\n\u001b[0;32m      8\u001b[0m ratio_cm_to_pixel \u001b[38;5;241m=\u001b[39m image_draw\u001b[38;5;241m.\u001b[39mratio_calc(actual_distance)  \n",
      "File \u001b[1;32mc:\\Users\\nikib\\Downloads\\bn research project\\BN repository\\BN-research-project\\image_draw.py:38\u001b[0m, in \u001b[0;36mdouble_click_draw\u001b[1;34m()\u001b[0m\n\u001b[0;32m     35\u001b[0m cv\u001b[38;5;241m.\u001b[39msetMouseCallback(windowname, drawPoint, img)\n\u001b[0;32m     37\u001b[0m \u001b[38;5;28;01mwhile\u001b[39;00m \u001b[38;5;28;01mTrue\u001b[39;00m:\n\u001b[1;32m---> 38\u001b[0m     \u001b[43mcv\u001b[49m\u001b[38;5;241;43m.\u001b[39;49m\u001b[43mimshow\u001b[49m\u001b[43m(\u001b[49m\u001b[43mwindowname\u001b[49m\u001b[43m,\u001b[49m\u001b[43m \u001b[49m\u001b[43mimg\u001b[49m\u001b[43m)\u001b[49m\n\u001b[0;32m     39\u001b[0m     k \u001b[38;5;241m=\u001b[39m cv\u001b[38;5;241m.\u001b[39mwaitKey(\u001b[38;5;241m30\u001b[39m)\n\u001b[0;32m     40\u001b[0m     \u001b[38;5;28;01mif\u001b[39;00m k \u001b[38;5;241m==\u001b[39m \u001b[38;5;241m27\u001b[39m \u001b[38;5;129;01mor\u001b[39;00m \u001b[38;5;28mlen\u001b[39m(coords) \u001b[38;5;241m==\u001b[39m \u001b[38;5;241m2\u001b[39m: \n",
      "\u001b[1;31merror\u001b[0m: OpenCV(4.11.0) D:\\a\\opencv-python\\opencv-python\\opencv\\modules\\highgui\\src\\window.cpp:973: error: (-215:Assertion failed) size.width>0 && size.height>0 in function 'cv::imshow'\n"
     ]
    },
    {
     "ename": "",
     "evalue": "",
     "output_type": "error",
     "traceback": [
      "\u001b[1;31mThe Kernel crashed while executing code in the current cell or a previous cell. \n",
      "\u001b[1;31mPlease review the code in the cell(s) to identify a possible cause of the failure. \n",
      "\u001b[1;31mClick <a href='https://aka.ms/vscodeJupyterKernelCrash'>here</a> for more info. \n",
      "\u001b[1;31mView Jupyter <a href='command:jupyter.viewOutput'>log</a> for further details."
     ]
    }
   ],
   "source": [
    "ratios = []\n",
    "\n",
    "for videoname in videonames:\n",
    "    image_draw.get_first_frame('videos/' + videoname)\n",
    "    print(videoname)\n",
    "    image_draw.double_click_draw()\n",
    "    actual_distance = 40\n",
    "    ratio_cm_to_pixel = image_draw.ratio_calc(actual_distance)  \n",
    "    ratios.append(ratio_cm_to_pixel)\n",
    "    print(f'The ratio found is {image_draw.ratio_calc(actual_distance)} pixels per cm')\n"
   ]
  },
  {
   "cell_type": "markdown",
   "metadata": {},
   "source": [
    "Last prep step, run this block to create a .csv file with all the necessary information to transpose the inputs of your criteria in the actual analysis notebook. Make sure to note where you put this csv file since it needs to be in the same folder as the other notebook. You can change the name of the file in the string of the to_csv function. Do not forget to then also change the other notebook's reference as well!!\n"
   ]
  },
  {
   "cell_type": "code",
   "execution_count": null,
   "metadata": {},
   "outputs": [],
   "source": [
    "video_names = [os.path.splitext(f)[0] for f in videonames]\n",
    "\n",
    "df = pd.DataFrame({\"videoname\": video_names, \"cm_to_pixel_ratio\": ratios})\n",
    "\n",
    "# Save DataFrame to CSV\n",
    "df.to_csv(\"video_data.csv\", index=False)"
   ]
  }
 ],
 "metadata": {
  "kernelspec": {
   "display_name": ".venv",
   "language": "python",
   "name": "python3"
  },
  "language_info": {
   "codemirror_mode": {
    "name": "ipython",
    "version": 3
   },
   "file_extension": ".py",
   "mimetype": "text/x-python",
   "name": "python",
   "nbconvert_exporter": "python",
   "pygments_lexer": "ipython3",
   "version": "3.10.11"
  }
 },
 "nbformat": 4,
 "nbformat_minor": 2
}
