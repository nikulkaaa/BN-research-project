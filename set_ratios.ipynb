{
 "cells": [
  {
   "cell_type": "markdown",
   "metadata": {},
   "source": [
    "# This is Where we can create a csv file to use for our analysis\n",
    "Some of the video angles and such might be a bit distorted or angled differently. To deal with this, we can assign a known lenght in real life to the distance from two points in one of the frames of the video.\n",
    "\n",
    "\n",
    "This first block is to make a list of all the videos we want to analyse. Assuming all the necessary are formatted the same and also in the same and dedicated folder, which is something we advice but isnt necessary.\n",
    "\n",
    "The directory path is where you put the direct path to the folder containing the videos. You can find this directory by opening the folder and looking at its properties. Copy this path and paste in the format: r\"path/to/directory\".\n",
    "In the line of videonames you must assigne the format the videos are held in. Without the '.' Just plain old \"mp4\" would do. "
   ]
  },
  {
   "cell_type": "code",
   "execution_count": null,
   "metadata": {},
   "outputs": [
    {
     "name": "stdout",
     "output_type": "stream",
     "text": [
      "['233 (1).avi', '234 (1).avi', '235 (1).avi', '236 (1).avi', '237 (1).avi', '238 (1).avi', '239 (1).avi']\n"
     ]
    }
   ],
   "source": [
    "import os\n",
    "import image_draw\n",
    "import pandas as pd\n",
    "\n",
    "\n",
    "def get_filenames(directory, filetype: str):\n",
    "    \"\"\"\n",
    "    \n",
    "    Returns a list of all .xxx file names in the specified directory.\n",
    "    \n",
    "    \"\"\"\n",
    "    return [f for f in os.listdir(directory) if f.endswith(f'.{filetype}')]\n",
    "\n",
    "# path directory usage. \n",
    "directory_path = r\"C:\\Users\\Gebruiker\\Desktop\\Load and analysis\\videos\"\n",
    "videonames = get_filenames(directory_path, 'avi')\n",
    "\n",
    "print(videonames)"
   ]
  },
  {
   "cell_type": "markdown",
   "metadata": {},
   "source": [
    "# Great, now lets look at the frames and set some ratios.\n",
    "\n",
    "By double clicking using the left mouse button you can draw a dot on the first frame. (The window might pop up behind your compiler so once the box runs just find it) You can press ESC to deny or skip a frame but it will grant you an error. Exceptions can be made if deemed wanted. \n",
    "\n",
    "After setting two dots, it's coordinates will be saved and the next videos frame will come up. Keep doing this till you have finished all the videos of your folder. The window will automatically close and you can move on to creating your dataframe. "
   ]
  },
  {
   "cell_type": "code",
   "execution_count": 2,
   "metadata": {},
   "outputs": [
    {
     "name": "stdout",
     "output_type": "stream",
     "text": [
      "233 (1).avi\n",
      "The ratio found is 20.826215450724597 pixels per cm\n",
      "234 (1).avi\n",
      "The ratio found is 19.45006426724601 pixels per cm\n",
      "235 (1).avi\n",
      "The ratio found is 19.556392816672506 pixels per cm\n",
      "236 (1).avi\n",
      "The ratio found is 20.950238662125066 pixels per cm\n",
      "237 (1).avi\n",
      "The ratio found is 19.87514150893019 pixels per cm\n",
      "238 (1).avi\n",
      "The ratio found is 19.23773960214661 pixels per cm\n",
      "239 (1).avi\n",
      "The ratio found is 20.775376049544807 pixels per cm\n"
     ]
    }
   ],
   "source": [
    "ratios = []\n",
    "\n",
    "for videoname in videonames:\n",
    "    image_draw.get_first_frame('videos/' + videoname)\n",
    "    print(videoname)\n",
    "    image_draw.double_click_draw()\n",
    "    actual_distance = 40\n",
    "    ratio_cm_to_pixel = image_draw.ratio_calc(actual_distance)  \n",
    "    ratios.append(ratio_cm_to_pixel)\n",
    "    print(f'The ratio found is {image_draw.ratio_calc(actual_distance)} pixels per cm')\n"
   ]
  },
  {
   "cell_type": "markdown",
   "metadata": {},
   "source": [
    "Last prep step, run this block to create a .csv file with all the necessary information to transpose the inputs of your criteria in the actual analysis notebook. Make sure to note where you put this csv file since it needs to be in the same folder as the other notebook. You can change the name of the file in the string of the to_csv function. Do not forget to then also change the other notebook's reference as well!!\n"
   ]
  },
  {
   "cell_type": "code",
   "execution_count": null,
   "metadata": {},
   "outputs": [],
   "source": [
    "video_names = [os.path.splitext(f)[0] for f in videonames]\n",
    "\n",
    "df = pd.DataFrame({\"videoname\": video_names, \"cm_to_pixel_ratio\": ratios})\n",
    "\n",
    "# Save DataFrame to CSV\n",
    "df.to_csv(\"video_data.csv\", index=False)"
   ]
  }
 ],
 "metadata": {
  "kernelspec": {
   "display_name": ".venv",
   "language": "python",
   "name": "python3"
  },
  "language_info": {
   "codemirror_mode": {
    "name": "ipython",
    "version": 3
   },
   "file_extension": ".py",
   "mimetype": "text/x-python",
   "name": "python",
   "nbconvert_exporter": "python",
   "pygments_lexer": "ipython3",
   "version": "3.10.11"
  }
 },
 "nbformat": 4,
 "nbformat_minor": 2
}
