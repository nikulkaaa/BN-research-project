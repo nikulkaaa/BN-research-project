{
 "cells": [
  {
   "cell_type": "markdown",
   "metadata": {},
   "source": [
    "# This is Where we can create a csv file to use for our analysis\n",
    "Some of the video angles and such might be a bit distorted or angled differently. To deal with this, we can assign a known lenght in real life to the distance from two points in one of the frames of the video.\n",
    "\n",
    "\n",
    "This first block is to make a list of all the videos we want to analyse. Assuming all the necessary are formatted the same and also in the same and dedicated folder, which is something we advice but isnt necessary.\n",
    "\n",
    "The directory path is where you put the direct path to the folder containing the videos. You can find this directory by opening the folder and looking at its properties. Copy this path and paste in the format: r\"path/to/directory\".\n",
    "In the line of videonames you must assigne the format the videos are held in. Without the '.' Just plain old \"mp4\" would do. "
   ]
  },
  {
   "cell_type": "code",
   "execution_count": 6,
   "metadata": {},
   "outputs": [
    {
     "name": "stdout",
     "output_type": "stream",
     "text": [
      "['Nol G1l Test 010324', 'Nol G1rl Test 010324', 'Nol G20 Test 010324', 'Nol G2r Test 010324', 'Nol H1r Test 010324', 'Nol H1rl Test 010324', 'Nol H20 Test 010324', 'Nol H2l Test 010324', 'Nol I1l Test 010324', 'Nol I1rl Test 010324', 'Nol I20 Test 010324', 'Nol I2r Test 010324', 'Nol X0 Test 110724', 'Nol Xl Test 110724', 'Nol Xr Test 110724', 'Nol Y0 Test 110724', 'Nol Yl Test 110724', 'Nol Yr Test 110724', 'Nol Z10 Test 110724', 'Nol Z1r Test 110724', 'Nol Z20 Test 110724', 'Nol Z2r Test 110724']\n"
     ]
    }
   ],
   "source": [
    "import os\n",
    "import image_draw\n",
    "import pandas as pd\n",
    "\n",
    "\n",
    "def get_filenames(directory, filetype: str):\n",
    "    \"\"\"\n",
    "    \n",
    "    Returns a list of all .xxx file names in the specified directory.\n",
    "    Change for your local files.\n",
    "    If it's a big folder with all the videos use this:\n",
    "    return [f for f in os.listdir(directory) if f.endswith(f'.{filetype}')]\n",
    "    \n",
    "    For individual folders with each just one video use the below stated code. \n",
    "    return [f for f in os.listdir(directory) if not os.path.isfile(os.path.join(directory, f))]\n",
    "    \n",
    "    \"\"\"\n",
    "    return [f for f in os.listdir(directory) if not os.path.isfile(os.path.join(directory, f))]\n",
    "\n",
    "# path directory usage. \n",
    "directory_path = \"C:/Users/Gebruiker/Desktop/mp4 vids/\"\n",
    "videonames = get_filenames(directory_path, 'mp4')\n",
    "\n",
    "print(videonames)\n"
   ]
  },
  {
   "cell_type": "markdown",
   "metadata": {},
   "source": [
    "# Great, now lets look at the frames and set some ratios.\n",
    "\n",
    "By double clicking using the left mouse button you can draw a dot on the first frame. (The window might pop up behind your compiler so once the box runs just find it) You can press ESC to deny or skip a frame but it will grant you an error. Exceptions can be made if deemed wanted. \n",
    "\n",
    "After setting two dots, it's coordinates will be saved and the next videos frame will come up. Keep doing this till you have finished all the videos of your folder. The window will automatically close and you can move on to creating your dataframe. "
   ]
  },
  {
   "cell_type": "code",
   "execution_count": 7,
   "metadata": {},
   "outputs": [
    {
     "name": "stdout",
     "output_type": "stream",
     "text": [
      "C:/Users/Gebruiker/Desktop/mp4 vids/Nol G1l Test 010324\\Nol G1l Test 010324.mp4\n",
      "Nol G1l Test 010324\n",
      "The ratio found is 20.850959210549526 pixels per cm\n",
      "C:/Users/Gebruiker/Desktop/mp4 vids/Nol G1rl Test 010324\\Nol G1rl Test 010324.mp4\n",
      "Nol G1rl Test 010324\n",
      "The ratio found is 19.680764720914684 pixels per cm\n",
      "C:/Users/Gebruiker/Desktop/mp4 vids/Nol G20 Test 010324\\Nol G20 Test 010324.mp4\n",
      "Nol G20 Test 010324\n"
     ]
    },
    {
     "ename": "KeyboardInterrupt",
     "evalue": "",
     "output_type": "error",
     "traceback": [
      "\u001b[31m---------------------------------------------------------------------------\u001b[39m",
      "\u001b[31mKeyboardInterrupt\u001b[39m                         Traceback (most recent call last)",
      "\u001b[36mCell\u001b[39m\u001b[36m \u001b[39m\u001b[32mIn[7]\u001b[39m\u001b[32m, line 11\u001b[39m\n\u001b[32m      9\u001b[39m image_draw.get_first_frame(file_path)\n\u001b[32m     10\u001b[39m \u001b[38;5;28mprint\u001b[39m(videoname)\n\u001b[32m---> \u001b[39m\u001b[32m11\u001b[39m \u001b[43mimage_draw\u001b[49m\u001b[43m.\u001b[49m\u001b[43mdouble_click_draw\u001b[49m\u001b[43m(\u001b[49m\u001b[43m)\u001b[49m\n\u001b[32m     12\u001b[39m actual_distance = \u001b[32m40\u001b[39m\n\u001b[32m     13\u001b[39m ratio_cm_to_pixel = image_draw.ratio_calc(actual_distance)  \n",
      "\u001b[36mFile \u001b[39m\u001b[32mc:\\Users\\Gebruiker\\Desktop\\BN dlc project\\BN-research-project\\image_draw.py:112\u001b[39m, in \u001b[36mdouble_click_draw\u001b[39m\u001b[34m()\u001b[39m\n\u001b[32m    110\u001b[39m \u001b[38;5;28;01mwhile\u001b[39;00m \u001b[38;5;28;01mTrue\u001b[39;00m:\n\u001b[32m    111\u001b[39m     cv.imshow(windowname, img)\n\u001b[32m--> \u001b[39m\u001b[32m112\u001b[39m     k = \u001b[43mcv\u001b[49m\u001b[43m.\u001b[49m\u001b[43mwaitKey\u001b[49m\u001b[43m(\u001b[49m\u001b[32;43m30\u001b[39;49m\u001b[43m)\u001b[49m\n\u001b[32m    113\u001b[39m     \u001b[38;5;28;01mif\u001b[39;00m k == \u001b[32m27\u001b[39m \u001b[38;5;129;01mor\u001b[39;00m \u001b[38;5;28mlen\u001b[39m(coords) == \u001b[32m2\u001b[39m: \n\u001b[32m    114\u001b[39m         \u001b[38;5;28;01mbreak\u001b[39;00m\n",
      "\u001b[31mKeyboardInterrupt\u001b[39m: "
     ]
    }
   ],
   "source": [
    "ratios = []\n",
    "\n",
    "for videoname in videonames:\n",
    "    # Change to local path and filetype\n",
    "    folder_path = (\"C:/Users/Gebruiker/Desktop/mp4 vids/\" + videoname)\n",
    "    file_path = os.path.join(folder_path, f\"{videoname}.mp4\")\n",
    "    # For personal checking if the path is correct\n",
    "    print(file_path)\n",
    "    image_draw.get_first_frame(file_path)\n",
    "    print(videoname)\n",
    "    image_draw.double_click_draw()\n",
    "    actual_distance = 40\n",
    "    ratio_cm_to_pixel = image_draw.ratio_calc(actual_distance)  \n",
    "    ratios.append(ratio_cm_to_pixel)\n",
    "    print(f'The ratio found is {image_draw.ratio_calc(actual_distance)} pixels per cm')\n"
   ]
  },
  {
   "cell_type": "markdown",
   "metadata": {},
   "source": [
    "Last prep step, run this block to create a .csv file with all the necessary information to transpose the inputs of your criteria in the actual analysis notebook. Make sure to note where you put this csv file since it needs to be in the same folder as the other notebook. You can change the name of the file in the string of the to_csv function. Do not forget to then also change the other notebook's reference as well!!\n"
   ]
  },
  {
   "cell_type": "code",
   "execution_count": 8,
   "metadata": {},
   "outputs": [
    {
     "ename": "ValueError",
     "evalue": "All arrays must be of the same length",
     "output_type": "error",
     "traceback": [
      "\u001b[31m---------------------------------------------------------------------------\u001b[39m",
      "\u001b[31mValueError\u001b[39m                                Traceback (most recent call last)",
      "\u001b[36mCell\u001b[39m\u001b[36m \u001b[39m\u001b[32mIn[8]\u001b[39m\u001b[32m, line 3\u001b[39m\n\u001b[32m      1\u001b[39m video_names = [os.path.splitext(f)[\u001b[32m0\u001b[39m] \u001b[38;5;28;01mfor\u001b[39;00m f \u001b[38;5;129;01min\u001b[39;00m videonames]\n\u001b[32m----> \u001b[39m\u001b[32m3\u001b[39m df = \u001b[43mpd\u001b[49m\u001b[43m.\u001b[49m\u001b[43mDataFrame\u001b[49m\u001b[43m(\u001b[49m\u001b[43m{\u001b[49m\u001b[33;43m\"\u001b[39;49m\u001b[33;43mvideoname\u001b[39;49m\u001b[33;43m\"\u001b[39;49m\u001b[43m:\u001b[49m\u001b[43m \u001b[49m\u001b[43mvideo_names\u001b[49m\u001b[43m,\u001b[49m\u001b[43m \u001b[49m\u001b[33;43m\"\u001b[39;49m\u001b[33;43mcm_to_pixel_ratio\u001b[39;49m\u001b[33;43m\"\u001b[39;49m\u001b[43m:\u001b[49m\u001b[43m \u001b[49m\u001b[43mratios\u001b[49m\u001b[43m}\u001b[49m\u001b[43m)\u001b[49m\n\u001b[32m      5\u001b[39m \u001b[38;5;66;03m# Save DataFrame to CSV\u001b[39;00m\n\u001b[32m      6\u001b[39m df.to_csv(\u001b[33m\"\u001b[39m\u001b[33mvideo_data.csv\u001b[39m\u001b[33m\"\u001b[39m, index=\u001b[38;5;28;01mFalse\u001b[39;00m)\n",
      "\u001b[36mFile \u001b[39m\u001b[32mc:\\Users\\Gebruiker\\Desktop\\BN dlc project\\.venv\\Lib\\site-packages\\pandas\\core\\frame.py:778\u001b[39m, in \u001b[36mDataFrame.__init__\u001b[39m\u001b[34m(self, data, index, columns, dtype, copy)\u001b[39m\n\u001b[32m    772\u001b[39m     mgr = \u001b[38;5;28mself\u001b[39m._init_mgr(\n\u001b[32m    773\u001b[39m         data, axes={\u001b[33m\"\u001b[39m\u001b[33mindex\u001b[39m\u001b[33m\"\u001b[39m: index, \u001b[33m\"\u001b[39m\u001b[33mcolumns\u001b[39m\u001b[33m\"\u001b[39m: columns}, dtype=dtype, copy=copy\n\u001b[32m    774\u001b[39m     )\n\u001b[32m    776\u001b[39m \u001b[38;5;28;01melif\u001b[39;00m \u001b[38;5;28misinstance\u001b[39m(data, \u001b[38;5;28mdict\u001b[39m):\n\u001b[32m    777\u001b[39m     \u001b[38;5;66;03m# GH#38939 de facto copy defaults to False only in non-dict cases\u001b[39;00m\n\u001b[32m--> \u001b[39m\u001b[32m778\u001b[39m     mgr = \u001b[43mdict_to_mgr\u001b[49m\u001b[43m(\u001b[49m\u001b[43mdata\u001b[49m\u001b[43m,\u001b[49m\u001b[43m \u001b[49m\u001b[43mindex\u001b[49m\u001b[43m,\u001b[49m\u001b[43m \u001b[49m\u001b[43mcolumns\u001b[49m\u001b[43m,\u001b[49m\u001b[43m \u001b[49m\u001b[43mdtype\u001b[49m\u001b[43m=\u001b[49m\u001b[43mdtype\u001b[49m\u001b[43m,\u001b[49m\u001b[43m \u001b[49m\u001b[43mcopy\u001b[49m\u001b[43m=\u001b[49m\u001b[43mcopy\u001b[49m\u001b[43m,\u001b[49m\u001b[43m \u001b[49m\u001b[43mtyp\u001b[49m\u001b[43m=\u001b[49m\u001b[43mmanager\u001b[49m\u001b[43m)\u001b[49m\n\u001b[32m    779\u001b[39m \u001b[38;5;28;01melif\u001b[39;00m \u001b[38;5;28misinstance\u001b[39m(data, ma.MaskedArray):\n\u001b[32m    780\u001b[39m     \u001b[38;5;28;01mfrom\u001b[39;00m\u001b[38;5;250m \u001b[39m\u001b[34;01mnumpy\u001b[39;00m\u001b[34;01m.\u001b[39;00m\u001b[34;01mma\u001b[39;00m\u001b[38;5;250m \u001b[39m\u001b[38;5;28;01mimport\u001b[39;00m mrecords\n",
      "\u001b[36mFile \u001b[39m\u001b[32mc:\\Users\\Gebruiker\\Desktop\\BN dlc project\\.venv\\Lib\\site-packages\\pandas\\core\\internals\\construction.py:503\u001b[39m, in \u001b[36mdict_to_mgr\u001b[39m\u001b[34m(data, index, columns, dtype, typ, copy)\u001b[39m\n\u001b[32m    499\u001b[39m     \u001b[38;5;28;01melse\u001b[39;00m:\n\u001b[32m    500\u001b[39m         \u001b[38;5;66;03m# dtype check to exclude e.g. range objects, scalars\u001b[39;00m\n\u001b[32m    501\u001b[39m         arrays = [x.copy() \u001b[38;5;28;01mif\u001b[39;00m \u001b[38;5;28mhasattr\u001b[39m(x, \u001b[33m\"\u001b[39m\u001b[33mdtype\u001b[39m\u001b[33m\"\u001b[39m) \u001b[38;5;28;01melse\u001b[39;00m x \u001b[38;5;28;01mfor\u001b[39;00m x \u001b[38;5;129;01min\u001b[39;00m arrays]\n\u001b[32m--> \u001b[39m\u001b[32m503\u001b[39m \u001b[38;5;28;01mreturn\u001b[39;00m \u001b[43marrays_to_mgr\u001b[49m\u001b[43m(\u001b[49m\u001b[43marrays\u001b[49m\u001b[43m,\u001b[49m\u001b[43m \u001b[49m\u001b[43mcolumns\u001b[49m\u001b[43m,\u001b[49m\u001b[43m \u001b[49m\u001b[43mindex\u001b[49m\u001b[43m,\u001b[49m\u001b[43m \u001b[49m\u001b[43mdtype\u001b[49m\u001b[43m=\u001b[49m\u001b[43mdtype\u001b[49m\u001b[43m,\u001b[49m\u001b[43m \u001b[49m\u001b[43mtyp\u001b[49m\u001b[43m=\u001b[49m\u001b[43mtyp\u001b[49m\u001b[43m,\u001b[49m\u001b[43m \u001b[49m\u001b[43mconsolidate\u001b[49m\u001b[43m=\u001b[49m\u001b[43mcopy\u001b[49m\u001b[43m)\u001b[49m\n",
      "\u001b[36mFile \u001b[39m\u001b[32mc:\\Users\\Gebruiker\\Desktop\\BN dlc project\\.venv\\Lib\\site-packages\\pandas\\core\\internals\\construction.py:114\u001b[39m, in \u001b[36marrays_to_mgr\u001b[39m\u001b[34m(arrays, columns, index, dtype, verify_integrity, typ, consolidate)\u001b[39m\n\u001b[32m    111\u001b[39m \u001b[38;5;28;01mif\u001b[39;00m verify_integrity:\n\u001b[32m    112\u001b[39m     \u001b[38;5;66;03m# figure out the index, if necessary\u001b[39;00m\n\u001b[32m    113\u001b[39m     \u001b[38;5;28;01mif\u001b[39;00m index \u001b[38;5;129;01mis\u001b[39;00m \u001b[38;5;28;01mNone\u001b[39;00m:\n\u001b[32m--> \u001b[39m\u001b[32m114\u001b[39m         index = \u001b[43m_extract_index\u001b[49m\u001b[43m(\u001b[49m\u001b[43marrays\u001b[49m\u001b[43m)\u001b[49m\n\u001b[32m    115\u001b[39m     \u001b[38;5;28;01melse\u001b[39;00m:\n\u001b[32m    116\u001b[39m         index = ensure_index(index)\n",
      "\u001b[36mFile \u001b[39m\u001b[32mc:\\Users\\Gebruiker\\Desktop\\BN dlc project\\.venv\\Lib\\site-packages\\pandas\\core\\internals\\construction.py:677\u001b[39m, in \u001b[36m_extract_index\u001b[39m\u001b[34m(data)\u001b[39m\n\u001b[32m    675\u001b[39m lengths = \u001b[38;5;28mlist\u001b[39m(\u001b[38;5;28mset\u001b[39m(raw_lengths))\n\u001b[32m    676\u001b[39m \u001b[38;5;28;01mif\u001b[39;00m \u001b[38;5;28mlen\u001b[39m(lengths) > \u001b[32m1\u001b[39m:\n\u001b[32m--> \u001b[39m\u001b[32m677\u001b[39m     \u001b[38;5;28;01mraise\u001b[39;00m \u001b[38;5;167;01mValueError\u001b[39;00m(\u001b[33m\"\u001b[39m\u001b[33mAll arrays must be of the same length\u001b[39m\u001b[33m\"\u001b[39m)\n\u001b[32m    679\u001b[39m \u001b[38;5;28;01mif\u001b[39;00m have_dicts:\n\u001b[32m    680\u001b[39m     \u001b[38;5;28;01mraise\u001b[39;00m \u001b[38;5;167;01mValueError\u001b[39;00m(\n\u001b[32m    681\u001b[39m         \u001b[33m\"\u001b[39m\u001b[33mMixing dicts with non-Series may lead to ambiguous ordering.\u001b[39m\u001b[33m\"\u001b[39m\n\u001b[32m    682\u001b[39m     )\n",
      "\u001b[31mValueError\u001b[39m: All arrays must be of the same length"
     ]
    }
   ],
   "source": [
    "video_names = [os.path.splitext(f)[0] for f in videonames]\n",
    "\n",
    "df = pd.DataFrame({\"videoname\": video_names, \"cm_to_pixel_ratio\": ratios})\n",
    "\n",
    "# Save DataFrame to CSV\n",
    "df.to_csv(\"video_data.csv\", index=False)"
   ]
  }
 ],
 "metadata": {
  "kernelspec": {
   "display_name": ".venv",
   "language": "python",
   "name": "python3"
  },
  "language_info": {
   "codemirror_mode": {
    "name": "ipython",
    "version": 3
   },
   "file_extension": ".py",
   "mimetype": "text/x-python",
   "name": "python",
   "nbconvert_exporter": "python",
   "pygments_lexer": "ipython3",
   "version": "3.11.9"
  }
 },
 "nbformat": 4,
 "nbformat_minor": 2
}
