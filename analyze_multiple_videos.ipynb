{
 "cells": [
  {
   "cell_type": "markdown",
   "metadata": {},
   "source": [
    "# Analyze multiple video and compare results\n",
    "Nikola Bátová & Jesse ten Broeke\n",
    "\n",
    "n.batova@student.rug.nl\n",
    "\n",
    "j.ten.broeke1@student.rug.nl"
   ]
  },
  {
   "cell_type": "markdown",
   "metadata": {},
   "source": [
    "Necessary imports"
   ]
  },
  {
   "cell_type": "code",
   "execution_count": 11,
   "metadata": {},
   "outputs": [],
   "source": [
    "import pandas as pd\n",
    "import numpy as np\n",
    "import matplotlib\n",
    "matplotlib.use('Agg')\n",
    "from functions_for_DLC_analysis import get_bodyparts, create_rois, get_total_exploration_time, get_exploration_time"
   ]
  },
  {
   "cell_type": "markdown",
   "metadata": {},
   "source": [
    "### Define DLCscorer and load video data\n",
    "Change the DLCscorer variable according to your dataframe. You can find this by entering your 'videos' folder and reading it off the repeating sequence in the analysed data from your videos.\n",
    "\n",
    "Before running this cell, make sure you have created this video_data.csv file by running set_ratios.ipynb."
   ]
  },
  {
   "cell_type": "code",
   "execution_count": 12,
   "metadata": {},
   "outputs": [],
   "source": [
    "# Variable for the Dataframe to locate .h5 data\n",
    "DLCscorer = 'DLC_resnet50_BN research projectFeb3shuffle1_54500'\n",
    "\n",
    "video_data = pd.read_csv(f'video_data.csv')\n",
    "\n",
    "video_names = video_data['videoname']\n",
    "cm_to_pixel_ratios = (float(i) for i in video_data['cm_to_pixel_ratio'])"
   ]
  },
  {
   "cell_type": "code",
   "execution_count": 13,
   "metadata": {},
   "outputs": [],
   "source": [
    "# Bugfix to take care of numpy nep50 warning.\n",
    "def dummy_npwarn_decorator_factory():\n",
    "  def npwarn_decorator(x):\n",
    "    return x\n",
    "  return npwarn_decorator\n",
    "np._no_nep50_warning = getattr(np, '_no_nep50_warning', dummy_npwarn_decorator_factory)"
   ]
  },
  {
   "cell_type": "markdown",
   "metadata": {},
   "source": [
    "### Defining counting and not counting body parts, and frames per second\n",
    "Edit the fps variable depending on how many frames per second your analysed videos have. Default is 30.\n",
    "\n",
    "Edit the bpt_plus_names list with the body parts you want whose times in regions of interest you want to count in to the exploration time.\n",
    "\n",
    "Edit the bpt_mins_names list with the body parts you want whose times you want to substract from the exploration time."
   ]
  },
  {
   "cell_type": "code",
   "execution_count": 14,
   "metadata": {},
   "outputs": [],
   "source": [
    "# Frames per seconds in the videos being scored (default 30)\n",
    "fps=30\n",
    "\n",
    "# ADD body parts whose time you want to track in your ROI\n",
    "bpt_plus_names=['nose']\n",
    "\n",
    "# ADD body parts whose time you want to substract from the total time\n",
    "bpt_minus_names=['left-front-paw', 'right-front-paw']"
   ]
  },
  {
   "cell_type": "markdown",
   "metadata": {},
   "source": [
    "### Adding Regions of Interest (ROIs)\n",
    "Add the objects in regions of interest how you have them named in your labeling and the distance from your object, which still counts as your ROI\n"
   ]
  },
  {
   "cell_type": "code",
   "execution_count": 15,
   "metadata": {},
   "outputs": [],
   "source": [
    "# ADD a list of names of ROIs\n",
    "rois_names = ['non-moved object', 'moved object']\n",
    "\n",
    "# ADD how many cm from your object you want to track you body part, default 1\n",
    "boundary_size_distance = 1"
   ]
  },
  {
   "cell_type": "markdown",
   "metadata": {},
   "source": [
    "### Calculate and Print Results"
   ]
  },
  {
   "cell_type": "code",
   "execution_count": null,
   "metadata": {},
   "outputs": [
    {
     "name": "stdout",
     "output_type": "stream",
     "text": [
      "Video 233 (1):\n",
      "Total Exploration Time for non-moved object: 8.933333333333328s\n",
      "Total Exploration Time for moved object: 7.433333333333333s\n",
      "\n",
      "\n",
      "Video 234 (1):\n",
      "Total Exploration Time for non-moved object: 0.06666666666667709s\n",
      "Total Exploration Time for moved object: 0s\n",
      "\n",
      "\n",
      "Video 235 (1):\n",
      "Total Exploration Time for non-moved object: 14.433333333333335s\n",
      "Total Exploration Time for moved object: 20.4s\n",
      "\n",
      "\n",
      "Video 236 (1):\n",
      "Total Exploration Time for non-moved object: 0s\n",
      "Total Exploration Time for moved object: 9.699999999999998s\n",
      "\n",
      "\n",
      "Video 237 (1):\n",
      "Total Exploration Time for non-moved object: 2.966666666666666s\n",
      "Total Exploration Time for moved object: 21.133333333333333s\n",
      "\n",
      "\n",
      "Video 238 (1):\n",
      "Total Exploration Time for non-moved object: 29.433333333333334s\n",
      "Total Exploration Time for moved object: 4.500000000000002s\n",
      "\n",
      "\n",
      "Video 239 (1):\n",
      "Total Exploration Time for non-moved object: 0s\n",
      "Total Exploration Time for moved object: 3.3333333333333335s\n",
      "\n",
      "\n"
     ]
    }
   ],
   "source": [
    "results = []\n",
    "for video, ratio in zip(video_names, cm_to_pixel_ratios):\n",
    "    print(f'Video {video}:')\n",
    "\n",
    "    df= pd.read_hdf(f'../videos/{video}DLC_resnet50_BN research projectFeb3shuffle1_54500.h5')\n",
    "\n",
    "    rois = create_rois(df=df, DLCscorer=DLCscorer, distance=boundary_size_distance, names=rois_names, cm_to_pixel_ratio=ratio)\n",
    "\n",
    "    # Create rois for which time will be substracted if a certain body part is in one of these ROIs\n",
    "    rois_substracting = create_rois(df=df, DLCscorer=DLCscorer, distance=0, names=rois_names, cm_to_pixel_ratio=ratio)\n",
    "\n",
    "    # Ectract time, velocity & x and y coordinates for each body part\n",
    "    bpt_plus = get_bodyparts(df=df, DLCscorer=DLCscorer, fps=fps, bpt_names=bpt_plus_names)\n",
    "\n",
    "    # Ectract time, velocity & x and y coordinates for each body part\n",
    "    bpt_minus = get_bodyparts(df=df, DLCscorer=DLCscorer, fps=fps, bpt_names=bpt_minus_names)\n",
    "\n",
    "\n",
    "    explorationn = get_exploration_time(rois, rois_substracting, bpt_plus, bpt_minus)\n",
    "    for exp in explorationn:\n",
    "        print(f\"Total Exploration Time for {exp.get('name')}: {exp.get('exploration time')}s\")\n",
    "        results.append({\n",
    "            \"video_name\": video,\n",
    "            \"roi_name\": exp.get(\"name\"),\n",
    "            \"exploration_time\": exp.get(\"exploration time\"),\n",
    "            \"cm_to_pixel_ratio\": ratio\n",
    "        })\n",
    "    print(\"\\n\")\n",
    "    "
   ]
  },
  {
   "cell_type": "markdown",
   "metadata": {},
   "source": [
    "### Save results in a .csv file"
   ]
  },
  {
   "cell_type": "code",
   "execution_count": 17,
   "metadata": {},
   "outputs": [],
   "source": [
    "# Convert results to a DataFrame\n",
    "df_results = pd.DataFrame(results)\n",
    "\n",
    "# Save to CSV\n",
    "df_results.to_csv(\"exploration_times.csv\", index=False)"
   ]
  }
 ],
 "metadata": {
  "kernelspec": {
   "display_name": ".venv",
   "language": "python",
   "name": "python3"
  },
  "language_info": {
   "codemirror_mode": {
    "name": "ipython",
    "version": 3
   },
   "file_extension": ".py",
   "mimetype": "text/x-python",
   "name": "python",
   "nbconvert_exporter": "python",
   "pygments_lexer": "ipython3",
   "version": "3.10.11"
  }
 },
 "nbformat": 4,
 "nbformat_minor": 2
}
