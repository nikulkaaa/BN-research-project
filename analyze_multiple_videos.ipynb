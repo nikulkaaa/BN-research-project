{
 "cells": [
  {
   "cell_type": "markdown",
   "metadata": {},
   "source": [
    "# Analyze multiple video and compare results\n",
    "Nikola Bátová & Jesse ten Broeke\n",
    "\n",
    "n.batova@student.rug.nl\n",
    "\n",
    "j.ten.broeke1@student.rug.nl"
   ]
  },
  {
   "cell_type": "code",
   "execution_count": 44,
   "metadata": {},
   "outputs": [],
   "source": [
    "from functions_for_DLC_analysis import get_bodyparts, get_center_coordinates, get_radius, create_rois, get_total_exploration_time, get_cm_to_pixel_ratio, get_filenames\n",
    "# Importing the toolbox (takes several seconds)\n",
    "import pandas as pd\n",
    "import numpy as np\n",
    "import matplotlib.pyplot as plt\n",
    "\n",
    "# Have this file in the same folder as the notebook\n",
    "import time_in_each_roi\n",
    "import Time_within_certain_dist\n",
    "\n",
    "#import image_draw\n",
    "import matplotlib\n",
    "matplotlib.use('Agg')\n",
    "\n",
    "from collections import namedtuple\n",
    "from matplotlib.patches import Circle\n",
    "import copy\n",
    "import cv2 as cv\n",
    "import os"
   ]
  },
  {
   "cell_type": "code",
   "execution_count": 45,
   "metadata": {},
   "outputs": [],
   "source": [
    "# Variable for the Dataframe to locate .h5 data\n",
    "DLCscorer = 'DLC_resnet50_BN research projectFeb3shuffle1_54500'\n",
    "\n",
    "video_data = pd.read_csv(f'video_data.csv')\n",
    "\n",
    "video_names = video_data['videoname']\n",
    "cm_to_pixel_ratios = (float(i) for i in video_data['cm_to_pixel_ratio'])\n",
    "\n",
    "# Loading DLC data to analyse\n",
    "dfs = []\n",
    "for video in video_names:\n",
    "    df= pd.read_hdf(f'videos/{video}DLC_resnet50_BN research projectFeb3shuffle1_54500.h5')\n",
    "    dfs.append(df)"
   ]
  },
  {
   "cell_type": "code",
   "execution_count": 46,
   "metadata": {},
   "outputs": [],
   "source": [
    "# Bugfix to take care of numpy nep50 warning.\n",
    "def dummy_npwarn_decorator_factory():\n",
    "  def npwarn_decorator(x):\n",
    "    return x\n",
    "  return npwarn_decorator\n",
    "np._no_nep50_warning = getattr(np, '_no_nep50_warning', dummy_npwarn_decorator_factory)"
   ]
  },
  {
   "cell_type": "code",
   "execution_count": 47,
   "metadata": {},
   "outputs": [],
   "source": [
    "# Frames per seconds in the videos being scored (default 30)\n",
    "fps=30\n",
    "\n",
    "# ADD body parts whose time you want to track in your ROI\n",
    "bpt_plus_names=['nose']\n",
    "\n",
    "# ADD body parts whose time you want to substract from the total time\n",
    "bpt_minus_names=['left-front-paw', 'right-front-paw']\n"
   ]
  },
  {
   "cell_type": "code",
   "execution_count": 48,
   "metadata": {},
   "outputs": [],
   "source": [
    "# ADD a list of names of ROIs\n",
    "rois_names = ['non-moved object', 'moved object']\n",
    "\n",
    "# ADD how many cm from your object you want to track you body part, default 1\n",
    "boundary_size_distance = 1"
   ]
  },
  {
   "cell_type": "code",
   "execution_count": null,
   "metadata": {},
   "outputs": [
    {
     "name": "stdout",
     "output_type": "stream",
     "text": [
      "Video 233 (1):\n",
      "Ration 20.8262154507246:\n",
      "Total Exploration Time for non-moved object: 14.93333333333333s\n",
      "Total Exploration Time for moved object: 8.6s\n",
      "\n",
      "\n",
      "Video 234 (1):\n",
      "Ration 19.45006426724601:\n",
      "Total Exploration Time for non-moved object: 38.766666666666666s\n",
      "Total Exploration Time for moved object: 1.5666666666666667s\n",
      "\n",
      "\n",
      "Video 235 (1):\n",
      "Ration 19.556392816672503:\n",
      "Total Exploration Time for non-moved object: 14.433333333333335s\n",
      "Total Exploration Time for moved object: 20.9s\n",
      "\n",
      "\n",
      "Video 236 (1):\n",
      "Ration 20.950238662125063:\n",
      "Total Exploration Time for non-moved object: 1.2999999999999998s\n",
      "Total Exploration Time for moved object: 9.699999999999998s\n",
      "\n",
      "\n",
      "Video 237 (1):\n",
      "Ration 19.87514150893019:\n",
      "Total Exploration Time for non-moved object: 3.099999999999999s\n",
      "Total Exploration Time for moved object: 22.666666666666668s\n",
      "\n",
      "\n",
      "Video 238 (1):\n",
      "Ration 19.23773960214661:\n",
      "Total Exploration Time for non-moved object: 29.433333333333334s\n",
      "Total Exploration Time for moved object: 5.766666666666668s\n",
      "\n",
      "\n",
      "Video 239 (1):\n",
      "Ration 20.775376049544807:\n",
      "Total Exploration Time for non-moved object: 19.43333333333333s\n",
      "Total Exploration Time for moved object: 3.3333333333333335s\n",
      "\n",
      "\n"
     ]
    }
   ],
   "source": [
    "results = []\n",
    "for video, ratio in zip(video_names, cm_to_pixel_ratios):\n",
    "    print(f'Video {video}:')\n",
    "\n",
    "    df= pd.read_hdf(f'videos/{video}DLC_resnet50_BN research projectFeb3shuffle1_54500.h5')\n",
    "\n",
    "    rois = create_rois(df=df, DLCscorer=DLCscorer, distance=boundary_size_distance, names=rois_names, cm_to_pixel_ratio=ratio)\n",
    "\n",
    "    # Create rois for which time will be substracted if a certain body part is in one of these ROIs\n",
    "    rois_substracting = create_rois(df=df, DLCscorer=DLCscorer, distance=0, names=rois_names, cm_to_pixel_ratio=ratio)\n",
    "\n",
    "    # Ectract time, velocity & x and y coordinates for each body part\n",
    "    bpt_plus = get_bodyparts(df=df, DLCscorer=DLCscorer, fps=fps, bpt_names=bpt_plus_names)\n",
    "\n",
    "    # Ectract time, velocity & x and y coordinates for each body part\n",
    "    bpt_minus = get_bodyparts(df=df, DLCscorer=DLCscorer, fps=fps, bpt_names=bpt_minus_names)\n",
    "\n",
    "    exploration = get_total_exploration_time(rois, rois_substracting, bpt_plus, bpt_minus)\n",
    "    #print(exploration)\n",
    "    for exp in exploration:\n",
    "        print(f\"Total Exploration Time for {exp.get('name')}: {exp.get('exploration time')}s\")\n",
    "        results.append({\n",
    "            \"video_name\": video,\n",
    "            \"roi_name\": exp.get(\"name\"),\n",
    "            \"exploration_time\": exp.get(\"exploration time\"),\n",
    "            \"cm_to_pixel_ratio\": ratio\n",
    "        })\n",
    "    print(\"\\n\")\n",
    "    "
   ]
  },
  {
   "cell_type": "code",
   "execution_count": 50,
   "metadata": {},
   "outputs": [],
   "source": [
    "# Convert results to a DataFrame\n",
    "df_results = pd.DataFrame(results)\n",
    "\n",
    "# Save to CSV\n",
    "df_results.to_csv(\"exploration_times.csv\", index=False)"
   ]
  }
 ],
 "metadata": {
  "kernelspec": {
   "display_name": ".venv",
   "language": "python",
   "name": "python3"
  },
  "language_info": {
   "codemirror_mode": {
    "name": "ipython",
    "version": 3
   },
   "file_extension": ".py",
   "mimetype": "text/x-python",
   "name": "python",
   "nbconvert_exporter": "python",
   "pygments_lexer": "ipython3",
   "version": "3.10.11"
  }
 },
 "nbformat": 4,
 "nbformat_minor": 2
}
